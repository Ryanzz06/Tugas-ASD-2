{
  "nbformat": 4,
  "nbformat_minor": 0,
  "metadata": {
    "colab": {
      "name": "Tugas 2 ASD",
      "provenance": [],
      "authorship_tag": "ABX9TyOJTJDbXzNx1d/VqNc63OVU",
      "include_colab_link": true
    },
    "kernelspec": {
      "name": "python3",
      "display_name": "Python 3"
    },
    "language_info": {
      "name": "python"
    }
  },
  "cells": [
    {
      "cell_type": "markdown",
      "metadata": {
        "id": "view-in-github",
        "colab_type": "text"
      },
      "source": [
        "<a href=\"https://colab.research.google.com/github/Ryanzz06/Tugas-ASD-2/blob/main/Tugas_2_ASD.ipynb\" target=\"_parent\"><img src=\"https://colab.research.google.com/assets/colab-badge.svg\" alt=\"Open In Colab\"/></a>"
      ]
    },
    {
      "cell_type": "code",
      "execution_count": null,
      "metadata": {
        "colab": {
          "base_uri": "https://localhost:8080/"
        },
        "id": "_PF3nAzFXqtb",
        "outputId": "d6d5142c-6020-4c38-e1d6-ca699a7bcb99"
      },
      "outputs": [
        {
          "output_type": "stream",
          "name": "stdout",
          "text": [
            "a\n",
            "b\n",
            "c\n",
            "d\n"
          ]
        }
      ],
      "source": [
        "\n",
        "#contoh list menggunakan perulangan\n",
        "list_ryan = ['a','b','c','d']\n",
        "for r in list_ryan :\n",
        "  print(r)"
      ]
    },
    {
      "cell_type": "code",
      "source": [
        "\n",
        "#mengupdate\n",
        "list_ryan = ['a','b','c','d']\n",
        "list_ryan [3] = 'f'\n",
        "print(list_ryan)"
      ],
      "metadata": {
        "colab": {
          "base_uri": "https://localhost:8080/"
        },
        "id": "15-5_G8GYKnq",
        "outputId": "542d98fa-d985-4c48-af30-841c11f36e42"
      },
      "execution_count": null,
      "outputs": [
        {
          "output_type": "stream",
          "name": "stdout",
          "text": [
            "['a', 'b', 'c', 'f']\n"
          ]
        }
      ]
    },
    {
      "cell_type": "code",
      "source": [
        "\n",
        "#menghapus\n",
        "list_ryan = ['a','b','c','d']\n",
        "del list_ryan[2]\n",
        "print(list_ryan)"
      ],
      "metadata": {
        "colab": {
          "base_uri": "https://localhost:8080/"
        },
        "id": "-rzW9EI3YjSE",
        "outputId": "0114dd6e-e661-44a8-f88f-380453c3de2c"
      },
      "execution_count": null,
      "outputs": [
        {
          "output_type": "stream",
          "name": "stdout",
          "text": [
            "['a', 'b', 'd']\n"
          ]
        }
      ]
    },
    {
      "cell_type": "code",
      "source": [
        "#menambahkan\n",
        "list_ryan = ['a','b','c','d']\n",
        "list_ryan.append ('e')\n",
        "print(list_ryan)"
      ],
      "metadata": {
        "colab": {
          "base_uri": "https://localhost:8080/"
        },
        "id": "_MUunDcCZGUQ",
        "outputId": "71dd6e37-0404-4429-984b-6eb748327a59"
      },
      "execution_count": null,
      "outputs": [
        {
          "output_type": "stream",
          "name": "stdout",
          "text": [
            "['a', 'b', 'c', 'd', 'e']\n"
          ]
        }
      ]
    },
    {
      "cell_type": "code",
      "source": [
        "\n",
        "#contoh set\n",
        "set_ryan = {'a','b','c','d'}\n",
        "for r in set_ryan :\n",
        "  print (r)"
      ],
      "metadata": {
        "colab": {
          "base_uri": "https://localhost:8080/"
        },
        "id": "Uepv0XYdZhqC",
        "outputId": "8844cf56-e511-4b28-fb75-67f5dc36157f"
      },
      "execution_count": null,
      "outputs": [
        {
          "output_type": "stream",
          "name": "stdout",
          "text": [
            "d\n",
            "a\n",
            "c\n",
            "b\n"
          ]
        }
      ]
    },
    {
      "cell_type": "code",
      "source": [
        "\n",
        "#mengupdate\n",
        "set_ryan = {'a','b','c','d'}\n",
        "set_ryan = list(set_ryan)\n",
        "set_ryan[1] = 'z'\n",
        "set_ryan = set(set_ryan)\n",
        "print(set_ryan)"
      ],
      "metadata": {
        "colab": {
          "base_uri": "https://localhost:8080/"
        },
        "id": "TnPVeZHXaSIK",
        "outputId": "c437f0d3-6859-480b-ec46-68b39d4d5f58"
      },
      "execution_count": null,
      "outputs": [
        {
          "output_type": "stream",
          "name": "stdout",
          "text": [
            "{'d', 'c', 'b', 'z'}\n"
          ]
        }
      ]
    },
    {
      "cell_type": "code",
      "source": [
        "\n",
        "#menghapus\n",
        "set_ryan = {'a','b','c','d'}\n",
        "set_ryan = list(set_ryan)\n",
        "set_ryan.remove('b')\n",
        "set_ryan = set(set_ryan)\n",
        "print(set_ryan)"
      ],
      "metadata": {
        "colab": {
          "base_uri": "https://localhost:8080/"
        },
        "id": "6egd2Caha8mZ",
        "outputId": "0ecdd9e7-8583-4567-b53b-8dad1740b959"
      },
      "execution_count": null,
      "outputs": [
        {
          "output_type": "stream",
          "name": "stdout",
          "text": [
            "{'d', 'a', 'c'}\n"
          ]
        }
      ]
    },
    {
      "cell_type": "code",
      "source": [
        "#menambahkan\n",
        "set_ryan = {'a','b','c','d'}\n",
        "set_ryan = list(set_ryan)\n",
        "set_ryan.insert(2,'z')\n",
        "set_ryan = set(set_ryan)\n",
        "print(set_ryan)"
      ],
      "metadata": {
        "colab": {
          "base_uri": "https://localhost:8080/"
        },
        "id": "gebI9VbVbWP-",
        "outputId": "17765174-a366-4ff0-974d-400af1d391f7"
      },
      "execution_count": null,
      "outputs": [
        {
          "output_type": "stream",
          "name": "stdout",
          "text": [
            "{'d', 'a', 'z', 'c', 'b'}\n"
          ]
        }
      ]
    },
    {
      "cell_type": "code",
      "source": [
        "# contoh tuple\n",
        "tupl_ryan = ('a','b','c','d')\n",
        "for r in tupl_ryan :\n",
        "  print (r)"
      ],
      "metadata": {
        "colab": {
          "base_uri": "https://localhost:8080/"
        },
        "id": "74ayeee4bxu5",
        "outputId": "b7e00124-d8a7-475f-e3f2-e6b7763c2c87"
      },
      "execution_count": null,
      "outputs": [
        {
          "output_type": "stream",
          "name": "stdout",
          "text": [
            "a\n",
            "b\n",
            "c\n",
            "d\n"
          ]
        }
      ]
    },
    {
      "cell_type": "code",
      "source": [
        "\n",
        "#mengupdate\n",
        "tupl_ryan = ('a','b','c','d')\n",
        "tupl_ryan = list(tupl_ryan)\n",
        "tupl_ryan[0] = '1'\n",
        "tupl_ryan = tuple(tupl_ryan)\n",
        "print(tupl_ryan)"
      ],
      "metadata": {
        "colab": {
          "base_uri": "https://localhost:8080/"
        },
        "id": "TRyM_nDucMb0",
        "outputId": "1a61a178-d703-4276-d20e-af4340892de1"
      },
      "execution_count": null,
      "outputs": [
        {
          "output_type": "stream",
          "name": "stdout",
          "text": [
            "('1', 'b', 'c', 'd')\n"
          ]
        }
      ]
    },
    {
      "cell_type": "code",
      "source": [
        "#menghapus\n",
        "tupl_ryan = ('a','b','c','d')\n",
        "tupl_ryan = list(tupl_ryan)\n",
        "tupl_ryan.pop()\n",
        "tupl_ryan = tuple(tupl_ryan)\n",
        "print(tupl_ryan)"
      ],
      "metadata": {
        "colab": {
          "base_uri": "https://localhost:8080/"
        },
        "id": "WOHL4NDxc0tw",
        "outputId": "32d192bd-28ea-4dc5-b777-5491f65a2c6b"
      },
      "execution_count": null,
      "outputs": [
        {
          "output_type": "stream",
          "name": "stdout",
          "text": [
            "('a', 'b', 'c')\n"
          ]
        }
      ]
    },
    {
      "cell_type": "code",
      "source": [
        "#menambahkan\n",
        "tupl_ryan = ('a','b','c','d')\n",
        "tupl_ryan = list(tupl_ryan)\n",
        "tupl_ryan.extend(('y','z'))\n",
        "tupl_ryan = tuple(tupl_ryan)\n",
        "print(tupl_ryan)"
      ],
      "metadata": {
        "colab": {
          "base_uri": "https://localhost:8080/"
        },
        "id": "uxvDELAEdDrW",
        "outputId": "4a6ce7b6-0432-431f-d2e9-9fbc665a2b13"
      },
      "execution_count": null,
      "outputs": [
        {
          "output_type": "stream",
          "name": "stdout",
          "text": [
            "('a', 'b', 'c', 'd', 'y', 'z')\n"
          ]
        }
      ]
    },
    {
      "cell_type": "code",
      "source": [
        "#contoh distionary\n",
        "dist_ryan = {'a':'1','b':'2','c':'3','d':'4'}\n",
        "for r in dist_ryan :\n",
        "  print (f'{r} : {dist_ryan[r]}')"
      ],
      "metadata": {
        "colab": {
          "base_uri": "https://localhost:8080/"
        },
        "id": "CwicVgNsek-l",
        "outputId": "9851bfe6-47e3-4883-9e9a-fe1b29c921a9"
      },
      "execution_count": null,
      "outputs": [
        {
          "output_type": "stream",
          "name": "stdout",
          "text": [
            "a : 1\n",
            "b : 2\n",
            "c : 3\n",
            "d : 4\n"
          ]
        }
      ]
    },
    {
      "cell_type": "code",
      "source": [
        "\n",
        "#mengupdate\n",
        "dist_ryan = {'a':'1','b':'2','c':'3','d':'4'}\n",
        "dist_ryan['b'] = '10'\n",
        "print(dist_ryan)"
      ],
      "metadata": {
        "colab": {
          "base_uri": "https://localhost:8080/"
        },
        "id": "yX9dsvhYfgGB",
        "outputId": "e06c5e67-1f63-4466-a21e-7943bad457d4"
      },
      "execution_count": null,
      "outputs": [
        {
          "output_type": "stream",
          "name": "stdout",
          "text": [
            "{'a': '1', 'b': '10', 'c': '3', 'd': '4'}\n"
          ]
        }
      ]
    },
    {
      "cell_type": "code",
      "source": [
        "\n",
        "#menghapus\n",
        "dist_ryan = {'a':'1','b':'2','c':'3','d':'4'}\n",
        "dist_ryan.clear()\n",
        "print(dist_ryan)"
      ],
      "metadata": {
        "colab": {
          "base_uri": "https://localhost:8080/"
        },
        "id": "e-Tw3ZoKf2eH",
        "outputId": "66e06ce2-6460-45da-d0dd-95fff64a1d3c"
      },
      "execution_count": null,
      "outputs": [
        {
          "output_type": "stream",
          "name": "stdout",
          "text": [
            "{}\n"
          ]
        }
      ]
    },
    {
      "cell_type": "code",
      "source": [
        "#menambahkan\n",
        "dist_ryan = {'a':'1','b':'2','c':'3','d':'4'}\n",
        "dist_ryan ['z'] = '23'\n",
        "print(dist_ryan)"
      ],
      "metadata": {
        "colab": {
          "base_uri": "https://localhost:8080/"
        },
        "id": "Vd1rR8vigUHo",
        "outputId": "627a5d96-726e-42c0-d033-5b6f060e2e7c"
      },
      "execution_count": null,
      "outputs": [
        {
          "output_type": "stream",
          "name": "stdout",
          "text": [
            "{'a': '1', 'b': '2', 'c': '3', 'd': '4', 'z': '23'}\n"
          ]
        }
      ]
    }
  ]
}